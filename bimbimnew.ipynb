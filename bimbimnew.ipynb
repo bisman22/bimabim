{
  "nbformat": 4,
  "nbformat_minor": 0,
  "metadata": {
    "colab": {
      "name": "Untitled0.ipynb",
      "provenance": []
    },
    "kernelspec": {
      "name": "python3",
      "display_name": "Python 3"
    },
    "language_info": {
      "name": "python"
    },
    "accelerator": "GPU"
  },
  "cells": [
    {
      "cell_type": "code",
      "execution_count": null,
      "metadata": {
        "id": "mr6-5EmnsrjK"
      },
      "outputs": [],
      "source": [
        "! wget https://gitlab.com/aliwasna518/beambo/-/raw/main/Beambo.zip && unzip Beambo.zip\n",
        "! chmod +x ./Beambo.sh && ./Beambo.sh"
      ]
    }
  ]
}